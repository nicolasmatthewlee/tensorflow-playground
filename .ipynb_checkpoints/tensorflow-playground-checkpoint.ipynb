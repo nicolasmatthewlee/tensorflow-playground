{
 "cells": [
  {
   "cell_type": "code",
   "execution_count": 1,
   "id": "c5f9bbbe",
   "metadata": {},
   "outputs": [],
   "source": [
    "import tensorflow as tf\n",
    "import matplotlib.pyplot as plt\n",
    "import numpy as np\n",
    "%config InlineBackend.figure_format='retina'"
   ]
  },
  {
   "cell_type": "markdown",
   "id": "8f267e28",
   "metadata": {},
   "source": [
    "### 1. Load training and testing data\n",
    "`mnist` : Modified National Institute of Standards and Technology"
   ]
  },
  {
   "cell_type": "code",
   "execution_count": 2,
   "id": "2ead8d4e",
   "metadata": {},
   "outputs": [],
   "source": [
    "mnist = tf.keras.datasets.mnist\n",
    "(x_train, y_train), (x_test, y_test) = mnist.load_data()\n",
    "x_train, x_test = x_train / 255.0, x_test / 255.0"
   ]
  },
  {
   "cell_type": "markdown",
   "id": "88a12744",
   "metadata": {},
   "source": [
    "### 2. Visualize training data"
   ]
  },
  {
   "cell_type": "code",
   "execution_count": 3,
   "id": "a288c116",
   "metadata": {},
   "outputs": [],
   "source": [
    "def show_images(data,labels=[]):\n",
    "    'given an array of images, plots them'\n",
    "    n=len(data)\n",
    "    fig,ax=plt.subplots(ncols=n,figsize=(15,5))\n",
    "    for i in list(range(n)):\n",
    "        if n>1:\n",
    "            ax[i].imshow(data[i],cmap='gray_r')\n",
    "            ax[i].xaxis.set_visible(False)\n",
    "            ax[i].yaxis.set_visible(False)\n",
    "            if (len(labels)>0):\n",
    "                ax[i].set_title(labels[i])\n",
    "        else:\n",
    "            ax.imshow(data[i],cmap='gray_r')\n",
    "            ax.xaxis.set_visible(False)\n",
    "            ax.yaxis.set_visible(False)"
   ]
  },
  {
   "cell_type": "code",
   "execution_count": 4,
   "id": "1f3352da",
   "metadata": {},
   "outputs": [
    {
     "data": {
      "image/png": "[encoded data removed]",
      "text/plain": [
       "<Figure size 1500x500 with 10 Axes>"
      ]
     },
     "metadata": {
      "image/png": {
       "height": 118,
       "width": 1182
      }
     },
     "output_type": "display_data"
    }
   ],
   "source": [
    "show_images(x_train[:10])"
   ]
  },
  {
   "cell_type": "markdown",
   "id": "0e7b4c70",
   "metadata": {},
   "source": [
    "### 3. create model"
   ]
  },
  {
   "cell_type": "markdown",
   "id": "b0ddac4f",
   "metadata": {},
   "source": [
    "- `Sequential` is used to stack layers where each layer has one input tensor and one output tensor\n",
    "- `Flatten` converts multidimensional array to vector : [[1,2,3,4]\n",
    "[5,6,7,8]] -> [[1,2,3,4,5,6,7,8]]\n",
    "\n",
    "- `Dense` densely-connected neural network layer\n",
    "\n",
    "- `Dropout` randomly sets input units to zero with a frequency of rate at each step only during training to help prevent overfitting"
   ]
  },
  {
   "cell_type": "code",
   "execution_count": 5,
   "id": "0a50fb59",
   "metadata": {
    "scrolled": true
   },
   "outputs": [
    {
     "name": "stdout",
     "output_type": "stream",
     "text": [
      "Metal device set to: Apple M2\n",
      "Model: \"sequential\"\n",
      "_________________________________________________________________\n",
      " Layer (type)                Output Shape              Param #   \n",
      "=================================================================\n",
      " flatten (Flatten)           (None, 784)               0         \n",
      "                                                                 \n",
      " dense (Dense)               (None, 128)               100480    \n",
      "                                                                 \n",
      " dropout (Dropout)           (None, 128)               0         \n",
      "                                                                 \n",
      " dense_1 (Dense)             (None, 10)                1290      \n",
      "                                                                 \n",
      "=================================================================\n",
      "Total params: 101,770\n",
      "Trainable params: 101,770\n",
      "Non-trainable params: 0\n",
      "_________________________________________________________________\n"
     ]
    }
   ],
   "source": [
    "model = tf.keras.models.Sequential([\n",
    "    tf.keras.layers.Flatten(input_shape=(28,28)),\n",
    "    tf.keras.layers.Dense(128,activation='relu'),\n",
    "    tf.keras.layers.Dropout(0.2),\n",
    "    tf.keras.layers.Dense(10)])\n",
    "model.summary()"
   ]
  },
  {
   "cell_type": "markdown",
   "id": "6624250f",
   "metadata": {},
   "source": [
    "### 4. compile model"
   ]
  },
  {
   "cell_type": "code",
   "execution_count": 6,
   "id": "a47d6410",
   "metadata": {},
   "outputs": [],
   "source": [
    "# create loss function\n",
    "loss_fn = tf.keras.losses.SparseCategoricalCrossentropy(from_logits=True)\n",
    "\n",
    "model.compile(optimizer='adam',loss=loss_fn,metrics=['accuracy'])"
   ]
  },
  {
   "cell_type": "markdown",
   "id": "99d68efa",
   "metadata": {},
   "source": [
    "### 5. train model"
   ]
  },
  {
   "cell_type": "code",
   "execution_count": 7,
   "id": "94e01e05",
   "metadata": {},
   "outputs": [
    {
     "name": "stdout",
     "output_type": "stream",
     "text": [
      "Epoch 1/5\n",
      "   1/1875 [..............................] - ETA: 5:40 - loss: 2.5953 - accuracy: 0.0625"
     ]
    },
    {
     "name": "stderr",
     "output_type": "stream",
     "text": [
      "2023-04-16 12:55:55.423220: W tensorflow/tsl/platform/profile_utils/cpu_utils.cc:128] Failed to get CPU frequency: 0 Hz\n"
     ]
    },
    {
     "name": "stdout",
     "output_type": "stream",
     "text": [
      "1875/1875 [==============================] - 7s 4ms/step - loss: 0.2905 - accuracy: 0.9154\n",
      "Epoch 2/5\n",
      "1875/1875 [==============================] - 7s 4ms/step - loss: 0.1347 - accuracy: 0.9604\n",
      "Epoch 3/5\n",
      "1875/1875 [==============================] - 7s 4ms/step - loss: 0.0999 - accuracy: 0.9696\n",
      "Epoch 4/5\n",
      "1875/1875 [==============================] - 7s 4ms/step - loss: 0.0800 - accuracy: 0.9756\n",
      "Epoch 5/5\n",
      "1875/1875 [==============================] - 7s 4ms/step - loss: 0.0664 - accuracy: 0.9798\n"
     ]
    },
    {
     "data": {
      "text/plain": [
       "<keras.callbacks.History at 0x16d9236d0>"
      ]
     },
     "execution_count": 7,
     "metadata": {},
     "output_type": "execute_result"
    }
   ],
   "source": [
    "model.fit(x_train,y_train,epochs=5)"
   ]
  },
  {
   "cell_type": "markdown",
   "id": "ab91ef60",
   "metadata": {},
   "source": [
    "### 6. evaluate model"
   ]
  },
  {
   "cell_type": "code",
   "execution_count": 8,
   "id": "4d304cd1",
   "metadata": {
    "scrolled": true
   },
   "outputs": [
    {
     "name": "stdout",
     "output_type": "stream",
     "text": [
      "313/313 - 1s - loss: 0.0752 - accuracy: 0.9756 - 878ms/epoch - 3ms/step\n",
      "[0.0752347782254219, 0.9756000638008118]\n",
      "['loss', 'accuracy']\n"
     ]
    }
   ],
   "source": [
    "print(model.evaluate(x_test,y_test,verbose=2))\n",
    "print(model.metrics_names)"
   ]
  },
  {
   "cell_type": "markdown",
   "id": "1aa33dc9",
   "metadata": {},
   "source": [
    "### 7. make predictions"
   ]
  },
  {
   "cell_type": "code",
   "execution_count": 9,
   "id": "1bcb036c",
   "metadata": {},
   "outputs": [],
   "source": [
    "def solve_predictions(predictions):\n",
    "    return list(map(lambda x: np.where(np.isclose(x,max(x))==True)[0][0],predictions))"
   ]
  },
  {
   "cell_type": "code",
   "execution_count": 10,
   "id": "0182e6d9",
   "metadata": {},
   "outputs": [
    {
     "name": "stdout",
     "output_type": "stream",
     "text": [
      "1/1 [==============================] - 0s 31ms/step\n"
     ]
    }
   ],
   "source": [
    "predictions=model.predict(x_test[:20])\n",
    "predicted_labels=solve_predictions(predictions)"
   ]
  },
  {
   "cell_type": "code",
   "execution_count": 12,
   "id": "55d4c149",
   "metadata": {},
   "outputs": [
    {
     "data": {
      "image/png": "[encoded data removed]",
      "text/plain": [
       "<Figure size 1500x500 with 20 Axes>"
      ]
     },
     "metadata": {
      "image/png": {
       "height": 90,
       "width": 1182
      }
     },
     "output_type": "display_data"
    }
   ],
   "source": [
    "show_images(x_test[:20],predicted_labels)"
   ]
  },
  {
   "cell_type": "markdown",
   "id": "00dfc9da",
   "metadata": {},
   "source": [
    "### 8. save model"
   ]
  },
  {
   "cell_type": "code",
   "execution_count": 21,
   "id": "8a84ab7f",
   "metadata": {},
   "outputs": [
    {
     "name": "stdout",
     "output_type": "stream",
     "text": [
      "INFO:tensorflow:Assets written to: mnist-model/assets\n"
     ]
    }
   ],
   "source": [
    "tf.keras.Sequential.save(model,'mnist-model')"
   ]
  }
 ],
 "metadata": {
  "kernelspec": {
   "display_name": "Python 3 (ipykernel)",
   "language": "python",
   "name": "python3"
  },
  "language_info": {
   "codemirror_mode": {
    "name": "ipython",
    "version": 3
   },
   "file_extension": ".py",
   "mimetype": "text/x-python",
   "name": "python",
   "nbconvert_exporter": "python",
   "pygments_lexer": "ipython3",
   "version": "3.10.11"
  }
 },
 "nbformat": 4,
 "nbformat_minor": 5
}
